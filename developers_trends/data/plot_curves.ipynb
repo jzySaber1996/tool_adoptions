{
 "cells": [
  {
   "cell_type": "code",
   "execution_count": 2,
   "metadata": {
    "scrolled": true
   },
   "outputs": [],
   "source": [
    "#%matplotlib inline\n",
    "\n",
    "import json\n",
    "import pandas as pd\n",
    "import seaborn as sns, numpy as np\n",
    "import matplotlib.pyplot as plt\n",
    "import math\n",
    "from numpy.random import randn\n",
    "from scipy.stats import hypergeom\n",
    "import copy\n",
    "import pandas_profiling\n",
    "import statsmodels\n",
    "import matplotlib"
   ]
  },
  {
   "cell_type": "code",
   "execution_count": 18,
   "metadata": {
    "scrolled": true
   },
   "outputs": [],
   "source": [
    "prefix = './'\n",
    "\n",
    "with open(prefix + 'project_age_dict.json', 'r') as jf:\n",
    "    project_age_dict = json.load(jf)\n",
    "    \n",
    "with open(prefix + 'tenure.json', 'r') as jf:\n",
    "    tenure = json.load(jf)\n",
    "\n",
    "with open(prefix + 'num_commits.json', 'r') as jf:\n",
    "    num_commits = json.load(jf)\n",
    "    \n",
    "with open(prefix + 'num_comments.json', 'r') as jf:\n",
    "    num_comments = json.load(jf)\n",
    "    \n",
    "with open(prefix + 'num_tenure.json', 'r') as jf:\n",
    "    num_tenure = json.load(jf)\n",
    "\n",
    "with open(prefix + 'exposure.json', 'r') as jf:\n",
    "    exposure = json.load(jf)\n",
    "\n",
    "with open(prefix + 'num_exposure.json', 'r') as jf:\n",
    "    num_exposure = json.load(jf)\n",
    "    \n",
    "with open(prefix + 'involvement.json', 'r') as jf:\n",
    "    involvement = json.load(jf)\n",
    "\n",
    "with open(prefix + 'num_involvement.json', 'r') as jf:\n",
    "    num_involvement = json.load(jf)\n",
    "    \n",
    "with open(prefix + 'sentiment.json', 'r') as jf:\n",
    "    sentiment = json.load(jf)\n",
    "\n",
    "with open(prefix + 'num_sentiment.json', 'r') as jf:\n",
    "    num_sentiment = json.load(jf)\n",
    "    \n",
    "with open(prefix + 'active.json', 'r') as jf:\n",
    "    active = json.load(jf)\n",
    "\n",
    "with open(prefix + 'num_active.json', 'r') as jf:\n",
    "    num_active = json.load(jf)\n",
    "    \n",
    "with open(prefix + 'tenure_distribution.txt', 'r') as f:\n",
    "    tenure_distribution = eval(f.readlines()[0])"
   ]
  },
  {
   "cell_type": "code",
   "execution_count": 181,
   "metadata": {
    "scrolled": true
   },
   "outputs": [
    {
     "data": {
      "text/plain": [
       "'-----------------------------------------Loading complete--------------------------------------------------------'"
      ]
     },
     "execution_count": 181,
     "metadata": {},
     "output_type": "execute_result"
    }
   ],
   "source": [
    "'-----------------------------------------Loading complete--------------------------------------------------------'"
   ]
  },
  {
   "cell_type": "code",
   "execution_count": 5,
   "metadata": {},
   "outputs": [],
   "source": [
    "# remove the bottom 2% and top 2%\n",
    "\n",
    "def regularization(lst):\n",
    "    \n",
    "    ratio = 0.02\n",
    "    \n",
    "    sorted_lst = sorted(lst)\n",
    "    \n",
    "    leng = len(sorted_lst)\n",
    "    \n",
    "    rst_lst = sorted_lst[int(leng*ratio):int(leng*(1-ratio))]\n",
    "    \n",
    "    return rst_lst\n",
    "\n"
   ]
  },
  {
   "cell_type": "code",
   "execution_count": 6,
   "metadata": {
    "scrolled": true
   },
   "outputs": [],
   "source": [
    "# calculating ratio of involved devs\n",
    "\n",
    "def get_ratio_over_time(dic):\n",
    "    \n",
    "    avg = []\n",
    "\n",
    "    involvement_rst = []\n",
    "\n",
    "    for project in dic:\n",
    "\n",
    "        for tool in dic[project]:\n",
    "\n",
    "            avg.append(dic[project][tool])\n",
    "\n",
    "\n",
    "    zipped = list(zip(*avg))\n",
    "\n",
    "    #print(zipped[0])\n",
    "\n",
    "    involvement_rst = copy.deepcopy(zipped)\n",
    "\n",
    "    for i in range(len(zipped)):\n",
    "\n",
    "        involvement_rst[i] = []\n",
    "\n",
    "        for j in range(len(zipped[i])):\n",
    "\n",
    "            if type(zipped[i][j]) != int:\n",
    "\n",
    "                involvement_rst[i].append(zipped[i][j])\n",
    "\n",
    "\n",
    "    # z-scores\n",
    "    \n",
    "    avgs = [sum(c)/len(c) for c in involvement_rst]\n",
    "    \n",
    "    ratio_list = involvement_rst\n",
    "    \n",
    "    return [avgs, ratio_list]"
   ]
  },
  {
   "cell_type": "code",
   "execution_count": 7,
   "metadata": {
    "scrolled": true
   },
   "outputs": [],
   "source": [
    "# calculating num of negative devs\n",
    "\n",
    "def get_num_over_time(dic):\n",
    "    \n",
    "    avg = []\n",
    "\n",
    "    active_rst = []\n",
    "\n",
    "    for project in dic:\n",
    "\n",
    "        for tool in dic[project]:\n",
    "\n",
    "            avg.append(dic[project][tool])\n",
    "\n",
    "    zipped = list(zip(*avg))\n",
    "\n",
    "    active_rst = copy.deepcopy(zipped)\n",
    "\n",
    "\n",
    "    for i in range(len(zipped)):\n",
    "\n",
    "        active_rst[i] = []\n",
    "\n",
    "        for j in range(len(zipped[i])):\n",
    "\n",
    "            active_rst[i].append(zipped[i][j])\n",
    "\n",
    "    ####\n",
    "      \n",
    "    avgs = [sum(c)/len(c) for c in active_rst]\n",
    "    \n",
    "    nums_list = active_rst\n",
    "    \n",
    "    return [avgs, nums_list]"
   ]
  },
  {
   "cell_type": "code",
   "execution_count": 8,
   "metadata": {
    "scrolled": true
   },
   "outputs": [],
   "source": [
    "# calculating ratio of young devs\n",
    "tenure_avgs, tenure_ratio_list = get_ratio_over_time(tenure)\n",
    "\n",
    "# calculating ratio of exposed devs\n",
    "exposure_avgs, exposure_ratio_list = get_ratio_over_time(exposure)\n",
    "\n",
    "# calculating ratio of involved devs\n",
    "involvement_avgs, involvement_ratio_list = get_ratio_over_time(involvement)\n",
    "\n",
    "# calculating ratio of negative devs\n",
    "sentiment_avgs, sentiment_ratio_list = get_ratio_over_time(sentiment)\n",
    "\n",
    "# calculating ratio of active developers\n",
    "active_avgs, active_ratio_list = get_ratio_over_time(active)\n"
   ]
  },
  {
   "cell_type": "code",
   "execution_count": 9,
   "metadata": {
    "scrolled": true
   },
   "outputs": [],
   "source": [
    "# calculating num of active devs\n",
    "num_active_avgs, active_num_list  = get_num_over_time(num_active)\n",
    "\n",
    "# calculating num of involved devs\n",
    "num_involvement_avgs, involvement_num_list = get_num_over_time(num_involvement)\n",
    "\n",
    "# calculating num of young devs\n",
    "num_tenure_avgs, tenure_num_list = get_num_over_time(num_tenure)\n",
    "\n",
    "# calculating num of negative devs\n",
    "num_sentiment_avgs, sentiment_num_list = get_num_over_time(num_sentiment)\n",
    "\n",
    "# calculating num of exposed devs\n",
    "num_exposure_avgs, exposure_num_list = get_num_over_time(num_exposure)\n",
    "\n",
    "# calculating num of comments\n",
    "num_comments_avgs, comments_num_list = get_num_over_time(num_comments)\n",
    "\n",
    "# calculating num of comments\n",
    "num_commits_avgs, commits_num_list = get_num_over_time(num_commits)"
   ]
  },
  {
   "cell_type": "code",
   "execution_count": 10,
   "metadata": {},
   "outputs": [],
   "source": [
    "import matplotlib\n",
    "\n",
    "SMALL_SIZE = 16\n",
    "matplotlib.rc('font', size=SMALL_SIZE)\n",
    "matplotlib.rc('axes', titlesize=SMALL_SIZE)"
   ]
  },
  {
   "cell_type": "code",
   "execution_count": 11,
   "metadata": {
    "scrolled": true
   },
   "outputs": [
    {
     "data": {
      "text/plain": [
       "'------------------------------------------------plotting--------------------------------------------------'"
      ]
     },
     "execution_count": 11,
     "metadata": {},
     "output_type": "execute_result"
    }
   ],
   "source": [
    "'------------------------------------------------plotting--------------------------------------------------'"
   ]
  },
  {
   "cell_type": "code",
   "execution_count": 12,
   "metadata": {
    "scrolled": true
   },
   "outputs": [
    {
     "name": "stderr",
     "output_type": "stream",
     "text": [
      "/home/ylk1996/.local/lib/python3.5/site-packages/matplotlib/font_manager.py:1241: UserWarning: findfont: Font family ['sans-serif'] not found. Falling back to DejaVu Sans.\n",
      "  (prop.get_family(), self.defaultFamily[fontext]))\n"
     ]
    },
    {
     "data": {
      "image/png": "[encoded data removed]",
      "text/plain": [
       "<Figure size 612x360 with 1 Axes>"
      ]
     },
     "metadata": {
      "needs_background": "light"
     },
     "output_type": "display_data"
    }
   ],
   "source": [
    "# plt.rcParams.update({'font.size': 22})\n",
    "\n",
    "#font = {'family' : 'normal',\n",
    "#            'size' :16}\n",
    "#matplotlib.rc('font', **font)\n",
    "\n",
    "\n",
    "fig = plt.figure(figsize=(8.5,5))\n",
    "\n",
    "matplotlib.rc('xtick', labelsize=22) \n",
    "matplotlib.rc('ytick', labelsize=22) \n",
    "\n",
    "x = list(range(-5,7))\n",
    "\n",
    "yerror = [np.std(y, ddof = 1)/np.sqrt(len(y)) for y in involvement_num_list]\n",
    "\n",
    "plt.errorbar(x, num_involvement_avgs, yerr = yerror, fmt='o', elinewidth = 1, capsize = 5, capthick = 1)\n",
    "\n",
    "\n",
    "#plt.xlabel('Relative Time to Adoption',  fontsize=14)\n",
    "plt.ylabel('Num of Involved Devs', fontsize = 22)\n",
    "plt.ylim((0, 8))\n",
    "\n",
    "plt.axvline(x=0, color= 'r', ls='--')\n",
    "\n",
    "# fig.suptitle('number of involved developers', fontsize=16)\n",
    "\n",
    "fig.savefig(\"involved.pdf\", bbox_inches='tight')"
   ]
  },
  {
   "cell_type": "code",
   "execution_count": 13,
   "metadata": {
    "scrolled": true
   },
   "outputs": [
    {
     "data": {
      "image/png": "[encoded data removed]",
      "text/plain": [
       "<Figure size 612x360 with 1 Axes>"
      ]
     },
     "metadata": {
      "needs_background": "light"
     },
     "output_type": "display_data"
    }
   ],
   "source": [
    "\n",
    "fig = plt.figure(figsize=(8.5,5))\n",
    "\n",
    "matplotlib.rc('xtick', labelsize=22) \n",
    "matplotlib.rc('ytick', labelsize=22) \n",
    "\n",
    "yerror = [np.std(y, ddof = 1)/np.sqrt(len(y)) for y in exposure_num_list]\n",
    "\n",
    "plt.errorbar(x, num_exposure_avgs, yerr = yerror, fmt='o', elinewidth = 1, capsize = 5, capthick = 1)\n",
    "\n",
    "plt.ylabel('Num of Devs w/ Exposure',  fontsize=22)\n",
    "plt.ylim((0, 8))\n",
    "plt.axvline(x=0, color= 'r', ls='--')\n",
    "fig.savefig(\"exposure.pdf\", bbox_inches='tight')"
   ]
  },
  {
   "cell_type": "code",
   "execution_count": 14,
   "metadata": {
    "scrolled": true
   },
   "outputs": [
    {
     "data": {
      "image/png": "[encoded data removed]",
      "text/plain": [
       "<Figure size 612x360 with 1 Axes>"
      ]
     },
     "metadata": {
      "needs_background": "light"
     },
     "output_type": "display_data"
    }
   ],
   "source": [
    "\n",
    "fig = plt.figure(figsize=(8.5,5))\n",
    "\n",
    "matplotlib.rc('xtick', labelsize=22) \n",
    "matplotlib.rc('ytick', labelsize=22) \n",
    "yerror = [np.std(y, ddof = 1)/np.sqrt(len(y)) for y in tenure_num_list]\n",
    "\n",
    "plt.errorbar(x, num_tenure_avgs, yerr = yerror, fmt='o', elinewidth = 1, capsize = 5, capthick = 1)\n",
    "\n",
    "#plt.plot(num_tenure_avgs)\n",
    "# plt.xlabel('Relative Time to Adoption',  fontsize=14)\n",
    "plt.ylabel('Num of New Devs',  fontsize=22)\n",
    "plt.ylim((0, 5))\n",
    "plt.axvline(x=0, color= 'r', ls='--')\n",
    "\n",
    "\n",
    "fig.savefig(\"young.pdf\", bbox_inches='tight')"
   ]
  },
  {
   "cell_type": "code",
   "execution_count": 16,
   "metadata": {
    "scrolled": false
   },
   "outputs": [
    {
     "data": {
      "image/png": "[encoded data removed]",
      "text/plain": [
       "<Figure size 612x360 with 1 Axes>"
      ]
     },
     "metadata": {
      "needs_background": "light"
     },
     "output_type": "display_data"
    }
   ],
   "source": [
    "\n",
    "fig = plt.figure(figsize=(8.5,5))\n",
    "\n",
    "matplotlib.rc('xtick', labelsize=22) \n",
    "matplotlib.rc('ytick', labelsize=22) \n",
    "\n",
    "\n",
    "# print(num_comments_avgs)\n",
    "\n",
    "log = comments_num_list[:][:]\n",
    "            \n",
    "yerror = [np.std(y, ddof = 1)/len(y)**0.5 for y in log]\n",
    "\n",
    "plt.errorbar(x, num_comments_avgs, yerr = yerror, fmt='o', elinewidth = 1, capsize = 5, capthick = 1)\n",
    "\n",
    "#plt.plot(num_comments_avgs)\n",
    "# plt.xlabel('Relative Time to Adoption',  fontsize=18)\n",
    "plt.ylabel('Num of Comments',  fontsize=22)\n",
    "plt.ylim((0, 4))\n",
    "\n",
    "plt.axvline(x=0, color= 'r', ls='--')\n",
    "\n",
    "\n",
    "# fig.suptitle('aggregated number of comments', fontsize=16)\n",
    "fig.savefig(\"comments.pdf\", bbox_inches='tight')\n"
   ]
  },
  {
   "cell_type": "code",
   "execution_count": 17,
   "metadata": {
    "scrolled": false
   },
   "outputs": [
    {
     "data": {
      "image/png": "[encoded data removed]",
      "text/plain": [
       "<Figure size 612x360 with 1 Axes>"
      ]
     },
     "metadata": {
      "needs_background": "light"
     },
     "output_type": "display_data"
    }
   ],
   "source": [
    "fig = plt.figure(figsize=(8.5,5))\n",
    "matplotlib.rc('xtick', labelsize=22) \n",
    "matplotlib.rc('ytick', labelsize=22) \n",
    "log = commits_num_list[:][:]\n",
    "\n",
    "yerror = [np.std(y, ddof = 1)/len(y)**0.5 for y in log]\n",
    "\n",
    "plt.errorbar(x, num_commits_avgs, yerr = yerror, fmt='o', elinewidth = 1, capsize = 5, capthick = 1)\n",
    "\n",
    "plt.ylabel('Num of Commits',  fontsize=22)\n",
    "plt.ylim((0, 60))\n",
    "plt.axvline(x=0, color= 'r', ls='--')\n",
    "fig.savefig(\"commits.pdf\", bbox_inches='tight')"
   ]
  }
 ],
 "metadata": {
  "kernelspec": {
   "display_name": "Python 3",
   "language": "python",
   "name": "python3"
  },
  "language_info": {
   "codemirror_mode": {
    "name": "ipython",
    "version": 3
   },
   "file_extension": ".py",
   "mimetype": "text/x-python",
   "name": "python",
   "nbconvert_exporter": "python",
   "pygments_lexer": "ipython3",
   "version": "3.5.2"
  }
 },
 "nbformat": 4,
 "nbformat_minor": 2
}
